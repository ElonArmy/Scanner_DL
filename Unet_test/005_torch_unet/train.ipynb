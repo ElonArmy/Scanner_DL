{
 "cells": [
  {
   "cell_type": "code",
   "execution_count": 23,
   "metadata": {},
   "outputs": [],
   "source": [
    "import os\n",
    "import numpy as np\n",
    "import torch\n",
    "from torch.utils.data import Dataset, DataLoader\n",
    "from torchvision import transforms\n",
    "import cv2\n",
    "\n",
    "IMG_WIDTH = 256\n",
    "IMG_HEIGHT = 256\n",
    "IMG_CHANNELS = 3\n",
    "\n",
    "#데이터 경로 지정  \n",
    "TRAIN_PATH = './data/'\n",
    "# TEST_PATH = './page_data/test/'\n",
    "\n",
    "class CustomDataset(Dataset):\n",
    "    def __init__(self, image_dir, mask_dir, transform=None):\n",
    "        self.image_dir = image_dir\n",
    "        self.mask_dir = mask_dir\n",
    "        self.transform = transform\n",
    "        self.images = os.listdir(image_dir)\n",
    "\n",
    "    def __len__(self):\n",
    "        return len(self.images)\n",
    "\n",
    "    def __getitem__(self, idx):\n",
    "        img_path = os.path.join(self.image_dir, self.images[idx])\n",
    "        mask_path = os.path.join(self.mask_dir, self.images[idx].replace('org', 'seg'))\n",
    "        image = cv2.imread(img_path)\n",
    "        mask = cv2.imread(mask_path, cv2.IMREAD_GRAYSCALE)\n",
    "\n",
    "        if self.transform:\n",
    "            augmented = self.transform(image=image, mask=mask)\n",
    "            image = augmented['image']\n",
    "            mask = augmented['mask']\n",
    "\n",
    "        # Normalize and resize as necessary\n",
    "        image = cv2.resize(image, (IMG_WIDTH, IMG_HEIGHT))\n",
    "        mask = cv2.resize(mask, (IMG_WIDTH, IMG_HEIGHT))\n",
    "\n",
    "        # Transform to tensor\n",
    "        image = torch.from_numpy(image).float()\n",
    "        mask = torch.from_numpy(mask).long()\n",
    "\n",
    "        # Rearrange image dimensions to CxHxW\n",
    "        image = image.permute(2, 0, 1) / 255.0  # Normalize to [0, 1]\n",
    "\n",
    "        return image, mask\n",
    "\n",
    "# Define any transforms you want to apply to both images and masks\n",
    "transform = transforms.Compose([\n",
    "    # Add any transformations here\n",
    "])\n",
    "\n",
    "# Initialize your dataset\n",
    "train_dataset = CustomDataset(\n",
    "    image_dir=TRAIN_PATH+'org/',\n",
    "    mask_dir=TRAIN_PATH+'seg/',\n",
    "    # transform=transform\n",
    ")\n",
    "\n",
    "# Initialize DataLoader\n",
    "train_loader = DataLoader(train_dataset, batch_size=1, shuffle=True)\n"
   ]
  },
  {
   "cell_type": "code",
   "execution_count": 24,
   "metadata": {},
   "outputs": [],
   "source": [
    "from networks.unet import UNet\n",
    "from torch import optim\n",
    "import torch\n",
    "import torch.nn as nn\n",
    "\n",
    "model = UNet(n_channels=3, n_classes=1)\n",
    "model\n",
    "\n",
    "epoch = 5\n",
    "batch_size = 1\n",
    "learning_rate = 1e-5\n",
    "weight_decay = 1e-8\n",
    "momentum = 0.999\n",
    "amp = False\n",
    "\n",
    "optimizer = optim.RMSprop(model.parameters(),\n",
    "                lr=learning_rate, weight_decay=weight_decay, momentum=momentum, foreach=True)\n",
    "# scheduler = optim.lr_scheduler.ReduceLROnPlateau(optimizer, 'max', patience=5)  # goal: maximize Dice score\n",
    "# grad_scaler = torch.cuda.amp.GradScaler(enabled=amp)\n",
    "criterion = nn.CrossEntropyLoss() if model.n_classes > 1 else nn.BCEWithLogitsLoss()\n"
   ]
  },
  {
   "cell_type": "code",
   "execution_count": 25,
   "metadata": {},
   "outputs": [
    {
     "name": "stdout",
     "output_type": "stream",
     "text": [
      "Epoch 1, Loss: -281.2527\n",
      "Epoch 2, Loss: -748.7574\n",
      "Epoch 3, Loss: -1570.6333\n",
      "Epoch 4, Loss: -2946.9877\n",
      "Epoch 5, Loss: -5041.3627\n"
     ]
    }
   ],
   "source": [
    "# GPU 사용 설정\n",
    "device = torch.device('cuda' if torch.cuda.is_available() else 'cpu')\n",
    "model.to(device)\n",
    "\n",
    "# 모델 학습 모드 설정\n",
    "model.train()\n",
    "\n",
    "for epoch in range(epoch):\n",
    "    running_loss = 0.0\n",
    "\n",
    "    for images, masks in train_loader:\n",
    "        # 데이터와 라벨을 GPU로 이동\n",
    "        images = images.to(device)\n",
    "        masks = masks.unsqueeze(1)\n",
    "        masks = masks.to(device)\n",
    "\n",
    "        # 옵티마이저 초기화\n",
    "        optimizer.zero_grad()\n",
    "\n",
    "        # 순전파 + 손실 계산\n",
    "        outputs = model(images)\n",
    "        masks = masks.float()\n",
    "        loss = criterion(outputs, masks)\n",
    "\n",
    "        # 역전파 + 옵티마이저 스텝\n",
    "        loss.backward()\n",
    "        optimizer.step()\n",
    "\n",
    "        # 손실 기록\n",
    "        running_loss += loss.item()\n",
    "\n",
    "    # 에폭마다 평균 손실 출력\n",
    "    epoch_loss = running_loss / len(train_loader)\n",
    "    print(f'Epoch {epoch+1}, Loss: {epoch_loss:.4f}')\n",
    "\n",
    "    # 선택적으로 학습률 스케줄러 스텝 실행\n",
    "    # scheduler.step(epoch_loss)\n"
   ]
  },
  {
   "cell_type": "code",
   "execution_count": 26,
   "metadata": {},
   "outputs": [],
   "source": [
    "torch.save(model, 'unet_test.pth')"
   ]
  },
  {
   "cell_type": "code",
   "execution_count": 56,
   "metadata": {},
   "outputs": [
    {
     "ename": "RuntimeError",
     "evalue": "permute(sparse_coo): number of dimensions in the tensor input does not match the length of the desired ordering of dimensions i.e. input.dim() = 3 is not equal to len(dims) = 4",
     "output_type": "error",
     "traceback": [
      "\u001b[1;31m---------------------------------------------------------------------------\u001b[0m",
      "\u001b[1;31mRuntimeError\u001b[0m                              Traceback (most recent call last)",
      "Cell \u001b[1;32mIn[56], line 26\u001b[0m\n\u001b[0;32m     24\u001b[0m \u001b[38;5;28;01mif\u001b[39;00m \u001b[38;5;28misinstance\u001b[39m(images, np\u001b[38;5;241m.\u001b[39mndarray):\n\u001b[0;32m     25\u001b[0m     images \u001b[38;5;241m=\u001b[39m torch\u001b[38;5;241m.\u001b[39mfrom_numpy(images)\u001b[38;5;241m.\u001b[39mfloat()  \u001b[38;5;66;03m# float 타입으로 변환\u001b[39;00m\n\u001b[1;32m---> 26\u001b[0m images \u001b[38;5;241m=\u001b[39m \u001b[43mimages\u001b[49m\u001b[43m[\u001b[49m\u001b[38;5;241;43m0\u001b[39;49m\u001b[43m]\u001b[49m\u001b[38;5;241;43m.\u001b[39;49m\u001b[43mpermute\u001b[49m\u001b[43m(\u001b[49m\u001b[38;5;241;43m0\u001b[39;49m\u001b[43m,\u001b[49m\u001b[43m \u001b[49m\u001b[38;5;241;43m3\u001b[39;49m\u001b[43m,\u001b[49m\u001b[43m \u001b[49m\u001b[38;5;241;43m1\u001b[39;49m\u001b[43m,\u001b[49m\u001b[43m \u001b[49m\u001b[38;5;241;43m2\u001b[39;49m\u001b[43m)\u001b[49m\u001b[38;5;241m.\u001b[39mcpu()\n\u001b[0;32m     28\u001b[0m \u001b[38;5;66;03m# plt.imshow(image_to_show, cmap='gray')\u001b[39;00m\n\u001b[0;32m     29\u001b[0m \u001b[38;5;66;03m# plt.show()\u001b[39;00m\n\u001b[0;32m     30\u001b[0m masks \u001b[38;5;241m=\u001b[39m masks[\u001b[38;5;241m0\u001b[39m]\u001b[38;5;241m.\u001b[39mcpu()\u001b[38;5;241m.\u001b[39mnumpy()\n",
      "\u001b[1;31mRuntimeError\u001b[0m: permute(sparse_coo): number of dimensions in the tensor input does not match the length of the desired ordering of dimensions i.e. input.dim() = 3 is not equal to len(dims) = 4"
     ]
    }
   ],
   "source": [
    "import torch\n",
    "from torchvision.utils import make_grid\n",
    "import matplotlib.pyplot as plt\n",
    "\n",
    "# 모델을 평가 모드로 설정\n",
    "model.eval()\n",
    "\n",
    "TEST_PATH = '../page_data/test/'\n",
    "\n",
    "# Initialize your dataset\n",
    "test_dataset = CustomDataset(\n",
    "    image_dir=TEST_PATH+'org/',\n",
    "    mask_dir=TEST_PATH+'seg/',\n",
    "    # transform=transform\n",
    ")\n",
    "\n",
    "# Initialize DataLoader\n",
    "test_loader = DataLoader(test_dataset, batch_size=1, shuffle=True)\n",
    "\n",
    "# GPU 사용 가능 여부 확인\n",
    "device = torch.device('cuda' if torch.cuda.is_available() else 'cpu')\n",
    "\n",
    "for images, masks in test_loader:\n",
    "    if isinstance(images, np.ndarray):\n",
    "        images = torch.from_numpy(images).float()  # float 타입으로 변환\n",
    "    images = images[0].permute(0, 3, 1, 2).cpu()\n",
    "\n",
    "    # plt.imshow(image_to_show, cmap='gray')\n",
    "    # plt.show()\n",
    "    masks = masks[0].cpu().numpy()\n",
    "    # plt.imshow(image_to_show, cmap='gray')\n",
    "    # plt.show()\n",
    "    \n",
    "    outputs = model(images)\n",
    "    preds = torch.sigmoid(outputs)\n",
    "    preds = preds > 0.5  # 임계값을 적용하여 이진 마스크 생성\n",
    "    \n",
    "    # 예측된 마스크와 실제 마스크를 리스트에 추가\n",
    "    predicted_masks.append(preds.cpu())\n",
    "    true_masks.append(masks.cpu())\n",
    "    break"
   ]
  },
  {
   "cell_type": "code",
   "execution_count": 36,
   "metadata": {},
   "outputs": [
    {
     "ename": "IndexError",
     "evalue": "list index out of range",
     "output_type": "error",
     "traceback": [
      "\u001b[1;31m---------------------------------------------------------------------------\u001b[0m",
      "\u001b[1;31mIndexError\u001b[0m                                Traceback (most recent call last)",
      "Cell \u001b[1;32mIn[36], line 57\u001b[0m\n\u001b[0;32m     54\u001b[0m     plt\u001b[38;5;241m.\u001b[39mshow()\n\u001b[0;32m     56\u001b[0m \u001b[38;5;66;03m# 예시로 몇 개의 마스크 시각화\u001b[39;00m\n\u001b[1;32m---> 57\u001b[0m \u001b[43mvisualize_masks\u001b[49m\u001b[43m(\u001b[49m\u001b[43mtrue_masks\u001b[49m\u001b[43m,\u001b[49m\u001b[43m \u001b[49m\u001b[43mpredicted_masks\u001b[49m\u001b[43m,\u001b[49m\u001b[43m \u001b[49m\u001b[43mnum_examples\u001b[49m\u001b[38;5;241;43m=\u001b[39;49m\u001b[38;5;241;43m3\u001b[39;49m\u001b[43m)\u001b[49m\n",
      "Cell \u001b[1;32mIn[36], line 48\u001b[0m, in \u001b[0;36mvisualize_masks\u001b[1;34m(true_masks, predicted_masks, num_examples)\u001b[0m\n\u001b[0;32m     46\u001b[0m fig, axs \u001b[38;5;241m=\u001b[39m plt\u001b[38;5;241m.\u001b[39msubplots(num_examples, \u001b[38;5;241m2\u001b[39m, figsize\u001b[38;5;241m=\u001b[39m(\u001b[38;5;241m10\u001b[39m, num_examples \u001b[38;5;241m*\u001b[39m \u001b[38;5;241m5\u001b[39m))\n\u001b[0;32m     47\u001b[0m \u001b[38;5;28;01mfor\u001b[39;00m i \u001b[38;5;129;01min\u001b[39;00m \u001b[38;5;28mrange\u001b[39m(num_examples):\n\u001b[1;32m---> 48\u001b[0m     axs[i, \u001b[38;5;241m0\u001b[39m]\u001b[38;5;241m.\u001b[39mimshow(\u001b[43mtrue_masks\u001b[49m\u001b[43m[\u001b[49m\u001b[43mi\u001b[49m\u001b[43m]\u001b[49m\u001b[38;5;241m.\u001b[39msqueeze(), cmap\u001b[38;5;241m=\u001b[39m\u001b[38;5;124m'\u001b[39m\u001b[38;5;124mgray\u001b[39m\u001b[38;5;124m'\u001b[39m)\n\u001b[0;32m     49\u001b[0m     axs[i, \u001b[38;5;241m0\u001b[39m]\u001b[38;5;241m.\u001b[39mset_title(\u001b[38;5;124m'\u001b[39m\u001b[38;5;124mTrue Mask\u001b[39m\u001b[38;5;124m'\u001b[39m)\n\u001b[0;32m     50\u001b[0m     axs[i, \u001b[38;5;241m1\u001b[39m]\u001b[38;5;241m.\u001b[39mimshow(predicted_masks[i]\u001b[38;5;241m.\u001b[39msqueeze(), cmap\u001b[38;5;241m=\u001b[39m\u001b[38;5;124m'\u001b[39m\u001b[38;5;124mgray\u001b[39m\u001b[38;5;124m'\u001b[39m)\n",
      "\u001b[1;31mIndexError\u001b[0m: list index out of range"
     ]
    },
    {
     "data": {
      "image/png": "[encoded data removed]",
      "text/plain": [
       "<Figure size 1000x1500 with 6 Axes>"
      ]
     },
     "metadata": {},
     "output_type": "display_data"
    }
   ],
   "source": [
    "\n",
    "\n",
    "# 테스트 데이터에 대한 예측을 저장할 리스트 초기화\n",
    "predicted_masks = []\n",
    "true_masks = []\n",
    "\n",
    "with torch.no_grad():  # 기울기 계산을 비활성화하여 메모리 사용량을 줄이고 계산 속도를 높임\n",
    "    for images, masks in test_loader:\n",
    "        # 데이터를 GPU로 이동\n",
    "        images = images.to(device)\n",
    "        masks = masks.to(device)\n",
    "\n",
    "        # 모델을 통해 예측 수행\n",
    "        outputs = model(images)\n",
    "        \n",
    "        # 여기서는 예측된 마스크를 시그모이드 함수를 적용하여 이진 분류 문제의 결과를 얻음\n",
    "        preds = torch.sigmoid(outputs)\n",
    "        preds = preds > 0.5  # 임계값을 적용하여 이진 마스크 생성\n",
    "        \n",
    "        # 예측된 마스크와 실제 마스크를 리스트에 추가\n",
    "        predicted_masks.append(preds.cpu())\n",
    "        true_masks.append(masks.cpu())\n",
    "\n",
    "# 예측된 마스크와 실제 마스크를 시각화하기 위한 함수\n",
    "def visualize_masks(true_masks, predicted_masks, num_examples=2):\n",
    "    fig, axs = plt.subplots(num_examples, 2, figsize=(10, num_examples * 5))\n",
    "    for i in range(num_examples):\n",
    "        axs[i, 0].imshow(true_masks[i].squeeze(), cmap='gray')\n",
    "        axs[i, 0].set_title('True Mask')\n",
    "        axs[i, 1].imshow(predicted_masks[i].squeeze(), cmap='gray')\n",
    "        axs[i, 1].set_title('Predicted Mask')\n",
    "        axs[i, 0].axis('off')\n",
    "        axs[i, 1].axis('off')\n",
    "    plt.show()\n",
    "\n",
    "# 예시로 몇 개의 마스크 시각화\n",
    "visualize_masks(true_masks, predicted_masks, num_examples=3)\n"
   ]
  },
  {
   "cell_type": "code",
   "execution_count": 33,
   "metadata": {},
   "outputs": [
    {
     "ename": "NameError",
     "evalue": "name 'plt' is not defined",
     "output_type": "error",
     "traceback": [
      "\u001b[1;31m---------------------------------------------------------------------------\u001b[0m",
      "\u001b[1;31mNameError\u001b[0m                                 Traceback (most recent call last)",
      "Cell \u001b[1;32mIn[33], line 13\u001b[0m\n\u001b[0;32m     11\u001b[0m \u001b[38;5;66;03m# Initialize DataLoader\u001b[39;00m\n\u001b[0;32m     12\u001b[0m test_loader \u001b[38;5;241m=\u001b[39m DataLoader(test_dataset, batch_size\u001b[38;5;241m=\u001b[39m\u001b[38;5;241m1\u001b[39m, shuffle\u001b[38;5;241m=\u001b[39m\u001b[38;5;28;01mTrue\u001b[39;00m)\n\u001b[1;32m---> 13\u001b[0m \u001b[43mplt\u001b[49m\u001b[38;5;241m.\u001b[39mimshow(test_loader\u001b[38;5;241m.\u001b[39mdataset[\u001b[38;5;241m0\u001b[39m])\n\u001b[0;32m     15\u001b[0m \u001b[38;5;66;03m# x, y = test_data[0][0], test_data[0][1]\u001b[39;00m\n\u001b[0;32m     16\u001b[0m \u001b[38;5;66;03m# with torch.no_grad():\u001b[39;00m\n\u001b[0;32m     17\u001b[0m \u001b[38;5;66;03m#     x = x.to(device)\u001b[39;00m\n\u001b[0;32m     18\u001b[0m \u001b[38;5;66;03m#     pred = model(x)\u001b[39;00m\n\u001b[0;32m     19\u001b[0m \u001b[38;5;66;03m#     predicted, actual = classes[pred[0].argmax(0)], classes[y]\u001b[39;00m\n\u001b[0;32m     20\u001b[0m \u001b[38;5;66;03m#     print(f'Predicted: \"{predicted}\", Actual: \"{actual}\"')\u001b[39;00m\n",
      "\u001b[1;31mNameError\u001b[0m: name 'plt' is not defined"
     ]
    }
   ],
   "source": [
    "model.eval()\n",
    "TEST_PATH = '../page_data/test/'\n",
    "\n",
    "# Initialize your dataset\n",
    "test_dataset = CustomDataset(\n",
    "    image_dir=TEST_PATH+'org/',\n",
    "    mask_dir=TEST_PATH+'seg/',\n",
    "    # transform=transform\n",
    ")\n",
    "\n",
    "# Initialize DataLoader\n",
    "test_loader = DataLoader(test_dataset, batch_size=1, shuffle=True)\n",
    "\n",
    "\n"
   ]
  }
 ],
 "metadata": {
  "kernelspec": {
   "display_name": "rcf_env",
   "language": "python",
   "name": "python3"
  },
  "language_info": {
   "codemirror_mode": {
    "name": "ipython",
    "version": 3
   },
   "file_extension": ".py",
   "mimetype": "text/x-python",
   "name": "python",
   "nbconvert_exporter": "python",
   "pygments_lexer": "ipython3",
   "version": "3.11.5"
  }
 },
 "nbformat": 4,
 "nbformat_minor": 2
}
