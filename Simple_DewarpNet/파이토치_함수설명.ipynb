{
 "cells": [
  {
   "cell_type": "markdown",
   "metadata": {},
   "source": [
    "# 파이토치 함수 설명\n",
    "- 데이터 전처리 또는 후처리에 사용되는 어려운 함수들 쉽게 정리 "
   ]
  },
  {
   "cell_type": "code",
   "execution_count": 6,
   "metadata": {},
   "outputs": [],
   "source": [
    "import torch\n",
    "import numpy as np"
   ]
  },
  {
   "cell_type": "code",
   "execution_count": 22,
   "metadata": {},
   "outputs": [
    {
     "name": "stdout",
     "output_type": "stream",
     "text": [
      "torch.Size([1, 7, 46, 46])\n",
      "torch.Size([1, 7, 46, 46])\n",
      "torch.Size([1, 7, 46, 46, 1])\n"
     ]
    }
   ],
   "source": [
    "# permute (=교환)\n",
    "# 원본의 인덱스의 순서를 교환한다\n",
    "x = torch.rand(1, 2, 3)\n",
    "x1 = x.permute(2, 1, 0)   # 결과: 3,2,1\n",
    "\n",
    "# tranpose (= 전치)\n",
    "# permute와 다르게 두개인덱스만 교환 가능 \n",
    "y = torch.rand(1, 2, 3)\n",
    "y1 = y.transpose(0, 2) # 결과 3,2,1 \n",
    "\n",
    "# numpy의 transpose, np.transpose\n",
    "# x라는 이미지가 들어온다면\n",
    "# 이미지의 차원을 (높이, 너비, 채널)에서 (채널, 높이, 너비)로 바꾼다\n",
    "np.transpose(x, (2, 0, 1)) \n",
    "\n",
    "\n",
    "# squeeze (=쥐어짜다)\n",
    "# 텐서의 차원을 줄이는 함수다\n",
    "x = torch.rand(1,7,46,46)\n",
    "print(x.shape)  # torch.Size([1, 7, 46, 46])\n",
    "x = x.squeeze(dim=1)\n",
    "print(x.shape)  # torch.Size([7, 46, 46])\n",
    "\n",
    "# unsqueeze  텐서의차원을 늘린다\n",
    "x = torch.rand(1,7,46,46)\n",
    "x = x.unsqueeze(dim=4 )  # 해당차원에 차원을 추가한다\n",
    "print(x.shape)  # torch.Size([1, 7, 46, 46, 1])\n",
    "\n",
    "\n",
    "# detach()\n",
    "'''\n",
    "pytorch는 tensor에서 이루어진 모든 연산을 기록(graph)해 놓는데 \n",
    "이 연산 기록에서 역전파가 이루어지게 된다. \n",
    "detach()함수는 이 연산 기록에서 \n",
    "역전파를 중단하고 분리한 tensor를 반환한다.\n",
    "'''\n",
    "\n",
    "# 텐서를 넘파이 배열로 바꾸기, cpu로 텐서를 넘겨야 넘파이로 변환이 가능하다\n",
    "x = x.detach().cpu().numpy()\n",
    "\n",
    "\n",
    "# torch.clamp (고정기)\n",
    "# Clamp 함수는 입력으로 들어오는 \n",
    "# 모든 값들을 [min, max]의 범위 안으로 조정해주는 역할\n",
    "a = torch.randn(4)  # tensor([-1.7120,  0.1734, -0.0478, -0.0922])\n",
    "torch.clamp(a, min=-0.5, max=0.5) # tensor([-0.5000,  0.1734, -0.0478, -0.0922])\n"
   ]
  },
  {
   "cell_type": "markdown",
   "metadata": {},
   "source": [
    "batch_size: 한 번에 처리되는 데이터의 개수, 주어진 데이터를 몇 개의 미니 배치로 나누어 학습하는지를 결정하는데 사용되는 크기\n",
    "N: 데이터셋의 전체 샘플 수, 학습에 사용되는 총 데이터의 양\n",
    "K: 각 데이터 샘플이 가지는 특성(feature)의 수이다. 이미지데이터라면 픽셀수가 된다. 예를들어 256*256 픽셀 사이즈의 이미지라면 특성수 K= 65,536가 된다"
   ]
  },
  {
   "cell_type": "code",
   "execution_count": null,
   "metadata": {},
   "outputs": [],
   "source": [
    "# torch.cat (= 토치 고양이), concatenate\n",
    "# 텐서를 같은 평면상(차원상)에서 합치는것이다\n",
    "# 종이 두장을 같은 책상위에 겹치지않고 붙여서 놓는것, 면적이 늘어남\n",
    "batch_size, N, K = 3, 10, 256\n",
    "\n",
    "x = torch.rand(batch_size, N, K) # [M, N, K]\n",
    "y = torch.rand(batch_size, N, K) # [M, N, K]\n",
    "\n",
    "output1 = torch.cat([x,y], dim=1) #[M, N+N, K]\n",
    "output2 = torch.cat([x,y], dim=2) #[M, N, K+K]\n",
    "\n",
    "\n",
    "# torch.stack \n",
    "# 텐서를 원하는 차원 방향으로 쌓는다. 크기가 동일해야 쌓을수있다\n",
    "# 합치는게 아니라. 종이를 쌓는것과 같다 부피가 늘어남\n",
    "batch_size, N, K = 3, 10, 256\n",
    "\n",
    "x = torch.rand(batch_size, N, K) # [M, N, K]\n",
    "y = torch.rand(batch_size, N, K) # [M, N, K]\n",
    "\n",
    "output = torch.stack([x,y], dim=1) #[M, 2, N, K]"
   ]
  },
  {
   "cell_type": "code",
   "execution_count": 10,
   "metadata": {},
   "outputs": [
    {
     "data": {
      "text/plain": [
       "torch.Size([128, 1, 28, 28])"
      ]
     },
     "execution_count": 10,
     "metadata": {},
     "output_type": "execute_result"
    }
   ],
   "source": [
    "# torch.size() == Size() 대소문자 차이: 기능은 차이가 없으나\n",
    "# 함수를 그냥 메서드로 사용하거나 객체로 인스턴스를 생성할수있거나의 차이이다\n",
    "batch_size, C, N, K = 128, 1, 28, 28\n",
    "x = torch.rand(batch_size, C, N, K)\n",
    "x.size()\n",
    "# 이 때 각각의 숫자가 의미하는게 무엇인지 살펴보자.\n",
    "# 128 : mini-batch size(데이터 한 묶음당 들어있는 데이터쌍(x-y) 개수)\n",
    "# 1 : channel size\n",
    "# 28 : img size\n",
    "# 28 : img size"
   ]
  },
  {
   "cell_type": "code",
   "execution_count": null,
   "metadata": {},
   "outputs": [],
   "source": [
    "# torch.nn.functional.grid_sample\n",
    "# 입력 이미지(= 2d grid 또는 3d grid)를 \n",
    "# 원하는 형태로 크기나 모양을 변경하거나 회전시키거나 자른다.\n",
    "# 즉 입력 이미지의 픽셀을 새로운 위치로 이동시키는 역할을 한다\n",
    "# 예를들면 이미지 내의 특정 픽셀 값을 새로운 좌표에 매핑하여 이미지를 변형하거나 회전시킬수 있다.\n",
    "import torch\n",
    "import torch.nn.functional as F   # 주로 이렇게 토치 활용도구 모듈을 F로 불러온다\n",
    "# 간단예시, 다양한 사용법이 존재한다\n",
    "# 입력 이미지 생성\n",
    "input_image = torch.tensor([[[1.0, 2.0, 3.0, 4.0],\n",
    "                             [5.0, 6.0, 7.0, 8.0],\n",
    "                             [9.0, 10.0, 11.0, 12.0],\n",
    "                             [13.0, 14.0, 15.0, 16.0]]])\n",
    "\n",
    "# 변환 매트릭스 생성 (2x2로 다운샘플링)\n",
    "transform_matrix = torch.tensor([[[0.5, 0.5],\n",
    "                                  [0.5, 0.5]]])\n",
    "\n",
    "# grid_sample을 사용하여 이미지 변환\n",
    "transformed_image = F.grid_sample(input_image, transform_matrix)\n",
    "\n",
    "print(transformed_image)\n",
    "# tensor([[[ 3.5000,  5.5000], [11.5000, 13.5000]]])\n"
   ]
  }
 ],
 "metadata": {
  "kernelspec": {
   "display_name": "rcf_env",
   "language": "python",
   "name": "python3"
  },
  "language_info": {
   "codemirror_mode": {
    "name": "ipython",
    "version": 3
   },
   "file_extension": ".py",
   "mimetype": "text/x-python",
   "name": "python",
   "nbconvert_exporter": "python",
   "pygments_lexer": "ipython3",
   "version": "3.11.5"
  }
 },
 "nbformat": 4,
 "nbformat_minor": 2
}
