{
 "cells": [
  {
   "cell_type": "markdown",
   "metadata": {},
   "source": [
    "# 평활화된 문서이미지를 정제하는 과정이다\n",
    "- 그림자, 다양한 조명 잡음을 처리하여 글자등의 정보가 뚜렷한 문서 이미지로 만든다\n",
    "- 이진화 기법과 푸리에 변환하고 고주파 정보를 추출해서 사용하는 기법 두가지가 대표적이다"
   ]
  },
  {
   "cell_type": "code",
   "execution_count": null,
   "metadata": {},
   "outputs": [],
   "source": []
  }
 ],
 "metadata": {
  "language_info": {
   "name": "python"
  }
 },
 "nbformat": 4,
 "nbformat_minor": 2
}
