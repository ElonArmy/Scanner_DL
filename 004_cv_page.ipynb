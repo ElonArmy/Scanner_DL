{
 "cells": [
  {
   "cell_type": "code",
   "execution_count": 1,
   "metadata": {},
   "outputs": [],
   "source": [
    "import cv2\n",
    "import numpy as np\n",
    "\n",
    "# 이미지 로드\n",
    "image = cv2.imread('./page_data/train/ori/01_page_ori.jpg')\n",
    "\n",
    "# 그레이스케일 변환 및 가장자리 검출\n",
    "gray = cv2.cvtColor(image, cv2.COLOR_BGR2GRAY)\n",
    "edges = cv2.Canny(gray, 50, 150, apertureSize=3)\n",
    "\n",
    "# 윤곽선 검출\n",
    "contours, hierarchy = cv2.findContours(edges, cv2.RETR_TREE, cv2.CHAIN_APPROX_SIMPLE)\n",
    "\n",
    "# 가장 큰 윤곽선 찾기\n",
    "largest_contour = max(contours, key=cv2.contourArea)\n",
    "\n",
    "# 윤곽선 근사화\n",
    "peri = cv2.arcLength(largest_contour, True)\n",
    "approx = cv2.approxPolyDP(largest_contour, 0.02 * peri, True)\n",
    "\n",
    "# 원근 변환\n",
    "if len(approx) == 4:  # 윤곽선이 사각형일 때만\n",
    "    transformed = four_point_transform(image, approx.reshape(4, 2))\n",
    "\n",
    "    # 결과 이미지 표시\n",
    "    cv2.imshow('Transformed', transformed)\n",
    "    cv2.waitKey(0)\n",
    "    cv2.destroyAllWindows()\n"
   ]
  }
 ],
 "metadata": {
  "kernelspec": {
   "display_name": "Python 3",
   "language": "python",
   "name": "python3"
  },
  "language_info": {
   "codemirror_mode": {
    "name": "ipython",
    "version": 3
   },
   "file_extension": ".py",
   "mimetype": "text/x-python",
   "name": "python",
   "nbconvert_exporter": "python",
   "pygments_lexer": "ipython3",
   "version": "3.10.6"
  }
 },
 "nbformat": 4,
 "nbformat_minor": 2
}
