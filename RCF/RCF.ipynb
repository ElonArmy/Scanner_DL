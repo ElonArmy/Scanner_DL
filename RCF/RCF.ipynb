{
 "cells": [
  {
   "cell_type": "code",
   "execution_count": 1,
   "metadata": {},
   "outputs": [
    {
     "name": "stdout",
     "output_type": "stream",
     "text": [
      "Model: \"model\"\n",
      "_________________________________________________________________\n",
      " Layer (type)                Output Shape              Param #   \n",
      "=================================================================\n",
      " input_1 (InputLayer)        [(None, None, None, 3)]   0         \n",
      "                                                                 \n",
      " conv2d (Conv2D)             (None, None, None, 64)    1792      \n",
      "                                                                 \n",
      " batch_normalization (Batch  (None, None, None, 64)    256       \n",
      " Normalization)                                                  \n",
      "                                                                 \n",
      " activation (Activation)     (None, None, None, 64)    0         \n",
      "                                                                 \n",
      " conv2d_1 (Conv2D)           (None, None, None, 128)   73856     \n",
      "                                                                 \n",
      " batch_normalization_1 (Bat  (None, None, None, 128)   512       \n",
      " chNormalization)                                                \n",
      "                                                                 \n",
      " activation_1 (Activation)   (None, None, None, 128)   0         \n",
      "                                                                 \n",
      " conv2d_2 (Conv2D)           (None, None, None, 1)     129       \n",
      "                                                                 \n",
      "=================================================================\n",
      "Total params: 76545 (299.00 KB)\n",
      "Trainable params: 76161 (297.50 KB)\n",
      "Non-trainable params: 384 (1.50 KB)\n",
      "_________________________________________________________________\n"
     ]
    }
   ],
   "source": [
    "import tensorflow as tf\n",
    "from tensorflow.keras.layers import Conv2D, Input\n",
    "\n",
    "def rcf_block(x, num_filters):\n",
    "    # 간단한 RCF 블록: Convolution + BatchNorm + ReLU\n",
    "    x = Conv2D(num_filters, (3, 3), padding='same')(x)\n",
    "    x = tf.keras.layers.BatchNormalization()(x)\n",
    "    x = tf.keras.layers.Activation('relu')(x)\n",
    "    return x\n",
    "\n",
    "# 입력 이미지의 차원을 정의합니다.\n",
    "input_shape = (None, None, 3)  # 높이, 너비, 채널\n",
    "\n",
    "# 입력 레이어를 정의합니다.\n",
    "inputs = Input(shape=input_shape)\n",
    "\n",
    "# RCF 네트워크를 구축합니다. (여기서는 단순화된 버전으로 2개의 RCF 블록만 사용)\n",
    "x = rcf_block(inputs, 64)\n",
    "x = rcf_block(x, 128)\n",
    "\n",
    "# 마지막으로, 1개의 채널을 가진 컨볼루션 레이어를 추가합니다 (경계 탐지용).\n",
    "outputs = Conv2D(1, (1, 1), activation='sigmoid')(x)\n",
    "\n",
    "# 모델을 생성합니다.\n",
    "model = tf.keras.Model(inputs=inputs, outputs=outputs)\n",
    "\n",
    "# 모델 요약을 출력합니다.\n",
    "model.summary()"
   ]
  },
  {
   "cell_type": "code",
   "execution_count": null,
   "metadata": {},
   "outputs": [],
   "source": [
    "import cv2\n",
    "import numpy as np\n",
    "\n",
    "# RCF 모델 로드 (사전 훈련된 모델 파일 필요)\n",
    "rcf_model_path = 'path/to/rcf/model'  # 모델 파일 경로로 변경하세요.\n",
    "rcf = cv2.dnn.readNet(rcf_model_path)\n",
    "\n",
    "# 문서 이미지 로드\n",
    "image_path = 'path/to/document/image.jpg'  # 이미지 파일 경로로 변경하세요.\n",
    "image = cv2.imread(image_path)\n",
    "\n",
    "# 이미지 전처리\n",
    "blob = cv2.dnn.blobFromImage(image, scalefactor=1.0, size=(500, 500),\n",
    "                             mean=(104.00698793, 116.66876762, 122.67891434),\n",
    "                             swapRB=False, crop=False)\n",
    "\n",
    "# RCF로 경계 탐지\n",
    "rcf.setInput(blob)\n",
    "edges = rcf.forward()\n",
    "\n",
    "# 경계 결과 처리\n",
    "edges = np.squeeze(edges)  # 차원 축소\n",
    "edges = (edges * 255).astype(np.uint8)  # 정규화 및 변환\n",
    "\n",
    "# 경계 기반 문서 추출 및 변형 로직 (여기서는 단순히 결과를 보여줌)\n",
    "cv2.imshow('Edges', edges)\n",
    "cv2.waitKey(0)\n",
    "cv2.destroyAllWindows()\n",
    "\n",
    "# 참고: 실제 문서 스캔에서는 탐지된 경계를 기반으로 문서를 추출하고,\n",
    "# 투시 변환(perspective transform)을 수행해야 합니다."
   ]
  }
 ],
 "metadata": {
  "kernelspec": {
   "display_name": "Python 3",
   "language": "python",
   "name": "python3"
  },
  "language_info": {
   "codemirror_mode": {
    "name": "ipython",
    "version": 3
   },
   "file_extension": ".py",
   "mimetype": "text/x-python",
   "name": "python",
   "nbconvert_exporter": "python",
   "pygments_lexer": "ipython3",
   "version": "3.11.5"
  }
 },
 "nbformat": 4,
 "nbformat_minor": 2
}
