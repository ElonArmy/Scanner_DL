{
 "cells": [
  {
   "cell_type": "code",
   "execution_count": 13,
   "metadata": {},
   "outputs": [
    {
     "name": "stdout",
     "output_type": "stream",
     "text": [
      "[RCF] loading with cpu\n",
      "[RCF] finished loading (1.2723 sec)\n",
      "시작시간 : 2024-01-30 21:50:00.897444\n",
      "종료시간 : 2024-01-30 21:50:24.810905\n",
      "수행시간 : 23 초\n",
      "\n"
     ]
    }
   ],
   "source": [
    "img_PATH = '../img_data/normal.jpg'\n",
    "\n",
    "\n",
    "'''전처리 => 모듈로 만들어야함''' \n",
    "import io\n",
    "import torchvision.transforms as transforms\n",
    "from PIL import Image\n",
    "import cv2\n",
    "\n",
    "    \n",
    "'''모델 예측 => 모듈로 만들어야함'''  \n",
    "import json\n",
    "from torchvision import models\n",
    "from RCF_model import RCF, device, find_contours,four_point_transform\n",
    "\n",
    "\n",
    "model = RCF(device=device)\n",
    "\n",
    "img = cv2.imread(img_PATH)\n",
    "edge_img = model.detect_edge(img)\n",
    "\n",
    "docCnt = find_contours(edge_img, 1)"
   ]
  },
  {
   "cell_type": "code",
   "execution_count": null,
   "metadata": {},
   "outputs": [],
   "source": [
    "\n",
    "def get_prediction(image_bytes):\n",
    "    tensor = transform_image(image_bytes=image_bytes)\n",
    "    outputs = model.forward(tensor)\n",
    "    _, y_hat = outputs.max(1)\n",
    "    predicted_idx = str(y_hat.item())\n",
    "    return imagenet_class_index[predicted_idx]\n",
    "\n",
    "with open(img_PATH, 'rb') as f:\n",
    "    image_bytes = f.read()\n",
    "    print(get_prediction(image_bytes=image_bytes))\n",
    "    \n",
    "    \n"
   ]
  }
 ],
 "metadata": {
  "kernelspec": {
   "display_name": "rcf_env",
   "language": "python",
   "name": "python3"
  },
  "language_info": {
   "codemirror_mode": {
    "name": "ipython",
    "version": 3
   },
   "file_extension": ".py",
   "mimetype": "text/x-python",
   "name": "python",
   "nbconvert_exporter": "python",
   "pygments_lexer": "ipython3",
   "version": "3.11.5"
  }
 },
 "nbformat": 4,
 "nbformat_minor": 2
}
