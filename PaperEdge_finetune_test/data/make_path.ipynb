{
 "cells": [
  {
   "cell_type": "markdown",
   "metadata": {},
   "source": [
    "# 학습시킬데이터이 경로 업데이트\n",
    "- diw_5k.txt의 이미지 이름을 최신화 하는것\n",
    "- bgtex.txt의 배경이미지 이름을 최신화 하는것"
   ]
  },
  {
   "cell_type": "code",
   "execution_count": 5,
   "metadata": {},
   "outputs": [],
   "source": [
    "# diw_5k\n",
    "import os\n",
    "\n",
    "path = './diw/img'\n",
    "\n",
    "img_names= os.listdir(path)\n",
    "\n",
    "with open('diw_5k.txt','w') as file:\n",
    "    for name in img_names:\n",
    "        file.write(f'{name}\\n')\n",
    "        "
   ]
  },
  {
   "cell_type": "code",
   "execution_count": null,
   "metadata": {},
   "outputs": [],
   "source": [
    "# bgtex\n",
    "\n",
    "path = './bgtex'\n",
    "\n",
    "bg_names = os.listdir(path)\n",
    "\n",
    "with open('bgtex.txt', 'w') as file:\n",
    "    for name in bg_names:\n",
    "        file.write(f'{name}\\n')"
   ]
  }
 ],
 "metadata": {
  "kernelspec": {
   "display_name": "rcf_env",
   "language": "python",
   "name": "python3"
  },
  "language_info": {
   "codemirror_mode": {
    "name": "ipython",
    "version": 3
   },
   "file_extension": ".py",
   "mimetype": "text/x-python",
   "name": "python",
   "nbconvert_exporter": "python",
   "pygments_lexer": "ipython3",
   "version": "3.11.5"
  }
 },
 "nbformat": 4,
 "nbformat_minor": 2
}
