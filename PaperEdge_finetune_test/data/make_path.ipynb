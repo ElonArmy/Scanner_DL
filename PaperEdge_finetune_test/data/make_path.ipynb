{
 "cells": [
  {
   "cell_type": "markdown",
   "metadata": {},
   "source": [
    "# 학습시킬 데이터의 경로 업데이트\n",
    "- diw_5k.txt의 이미지 이름을 최신화 하는것\n",
    "- bgtex.txt의 배경이미지 이름을 최신화 하는것"
   ]
  },
  {
   "cell_type": "code",
   "execution_count": 5,
   "metadata": {},
   "outputs": [],
   "source": [
    "# diw_5k\n",
    "import os\n",
    "\n",
    "path = './diw/img'\n",
    "\n",
    "img_names= os.listdir(path)\n",
    "\n",
    "with open('diw_5k.txt','w') as file:\n",
    "    for name in img_names:\n",
    "        file.write(f'{name}\\n')\n",
    "        "
   ]
  },
  {
   "cell_type": "code",
   "execution_count": 3,
   "metadata": {},
   "outputs": [],
   "source": [
    "# bgtex\n",
    "import os\n",
    "\n",
    "path = './bgtex'\n",
    "\n",
    "bg_names = os.listdir(path)\n",
    "\n",
    "with open('bgtex.txt', 'w') as file:\n",
    "    for name in bg_names:\n",
    "        file.write(f'{name}\\n')"
   ]
  },
  {
   "cell_type": "code",
   "execution_count": 2,
   "metadata": {},
   "outputs": [
    {
     "name": "stdout",
     "output_type": "stream",
     "text": [
      "Renamed '1 (2).jpg' to 'bg_1.jpg'\n",
      "Renamed '1 (3).jpg' to 'bg_2.jpg'\n",
      "Renamed '1 (4).jpg' to 'bg_3.jpg'\n",
      "Renamed '1 (5).jpg' to 'bg_4.jpg'\n",
      "Renamed '1 (6).jpg' to 'bg_5.jpg'\n",
      "Renamed '1 (7).jpg' to 'bg_6.jpg'\n",
      "Renamed '1.jpg' to 'bg_7.jpg'\n",
      "Renamed '11 (2).jpg' to 'bg_8.jpg'\n",
      "Renamed '11.jpg' to 'bg_9.jpg'\n",
      "Renamed '13 (2).jpg' to 'bg_10.jpg'\n",
      "Renamed '13.jpg' to 'bg_11.jpg'\n",
      "Renamed '15 (2).jpg' to 'bg_12.jpg'\n",
      "Renamed '15.jpg' to 'bg_13.jpg'\n",
      "Renamed '17 (2).jpg' to 'bg_14.jpg'\n",
      "Renamed '17 (3).jpg' to 'bg_15.jpg'\n",
      "Renamed '17.jpg' to 'bg_16.jpg'\n",
      "Renamed '19 (2).jpg' to 'bg_17.jpg'\n",
      "Renamed '19 (3).jpg' to 'bg_18.jpg'\n",
      "Renamed '19.jpg' to 'bg_19.jpg'\n",
      "Renamed '21 (2).jpg' to 'bg_20.jpg'\n",
      "Renamed '21 (3).jpg' to 'bg_21.jpg'\n",
      "Renamed '21 (4).jpg' to 'bg_22.jpg'\n",
      "Renamed '21.jpg' to 'bg_23.jpg'\n",
      "Renamed '23 (2).jpg' to 'bg_24.jpg'\n",
      "Renamed '23.jpg' to 'bg_25.jpg'\n",
      "Renamed '25 (2).jpg' to 'bg_26.jpg'\n",
      "Renamed '25 (3).jpg' to 'bg_27.jpg'\n",
      "Renamed '25.jpg' to 'bg_28.jpg'\n",
      "Renamed '29.jpg' to 'bg_29.jpg'\n",
      "Renamed '3 (2).jpg' to 'bg_30.jpg'\n",
      "Renamed '3 (3).jpg' to 'bg_31.jpg'\n",
      "Renamed '3 (4).jpg' to 'bg_32.jpg'\n",
      "Renamed '3 (5).jpg' to 'bg_33.jpg'\n",
      "Renamed '3.jpg' to 'bg_34.jpg'\n",
      "Renamed '31.jpg' to 'bg_35.jpg'\n",
      "Renamed '35.jpg' to 'bg_36.jpg'\n",
      "Renamed '37 (2).jpg' to 'bg_37.jpg'\n",
      "Renamed '37 (3).jpg' to 'bg_38.jpg'\n",
      "Renamed '37 (4).jpg' to 'bg_39.jpg'\n",
      "Renamed '37 (5).jpg' to 'bg_40.jpg'\n",
      "Renamed '37.jpg' to 'bg_41.jpg'\n",
      "Renamed '39 (2).jpg' to 'bg_42.jpg'\n",
      "Renamed '39.jpg' to 'bg_43.jpg'\n",
      "Renamed '5 (2).jpg' to 'bg_44.jpg'\n",
      "Renamed '5.jpg' to 'bg_45.jpg'\n",
      "Renamed '57.jpg' to 'bg_46.jpg'\n",
      "Renamed '63.jpg' to 'bg_47.jpg'\n",
      "Renamed '69.jpg' to 'bg_48.jpg'\n",
      "Renamed '7 (2).jpg' to 'bg_49.jpg'\n",
      "Renamed '7.jpg' to 'bg_50.jpg'\n"
     ]
    }
   ],
   "source": [
    "# 폴더내 이미지파일들 이름 바꾸기\n",
    "import os\n",
    "\n",
    "def rename_images(directory, new_name):\n",
    "    \"\"\"\n",
    "    이 함수는 지정된 디렉토리 내의 모든 이미지 파일의 이름을 변경합니다.\n",
    "    \n",
    "    :param directory: 이미지 파일이 있는 디렉토리의 경로\n",
    "    :param new_name: 파일의 새로운 이름의 기본이 되는 문자열\n",
    "    \"\"\"\n",
    "    # 지정된 디렉토리의 모든 파일 목록을 가져옵니다.\n",
    "    for count, filename in enumerate(os.listdir(directory)):\n",
    "        # 파일의 확장자를 추출합니다. (예: .jpg, .png)\n",
    "        extension = os.path.splitext(filename)[1]\n",
    "        \n",
    "        # 새 파일 이름을 구성합니다.\n",
    "        # 예: \"새이름_1.jpg\"\n",
    "        new_file_name = f\"{new_name}_{count+1}{extension}\"\n",
    "        \n",
    "        # 원래 파일의 전체 경로\n",
    "        old_file_path = os.path.join(directory, filename)\n",
    "        \n",
    "        # 새 파일의 전체 경로\n",
    "        new_file_path = os.path.join(directory, new_file_name)\n",
    "        \n",
    "        # 파일 이름을 변경합니다.\n",
    "        os.rename(old_file_path, new_file_path)\n",
    "        \n",
    "        print(f\"Renamed '{filename}' to '{new_file_name}'\")\n",
    "\n",
    "# 사용 예\n",
    "directory_path = \"./bgtex\"\n",
    "# 원하는 이름 지정\n",
    "rename_images(directory_path, \"bg\")\n"
   ]
  }
 ],
 "metadata": {
  "kernelspec": {
   "display_name": "rcf_env",
   "language": "python",
   "name": "python3"
  },
  "language_info": {
   "codemirror_mode": {
    "name": "ipython",
    "version": 3
   },
   "file_extension": ".py",
   "mimetype": "text/x-python",
   "name": "python",
   "nbconvert_exporter": "python",
   "pygments_lexer": "ipython3",
   "version": "3.11.5"
  }
 },
 "nbformat": 4,
 "nbformat_minor": 2
}
